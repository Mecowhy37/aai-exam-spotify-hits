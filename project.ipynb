{
 "cells": [
  {
   "cell_type": "code",
   "execution_count": 1,
   "id": "731ff28d-7d3f-4ff1-a8be-bbc73a99f343",
   "metadata": {},
   "outputs": [],
   "source": [
    "import numpy as np\n",
    "import pandas as pd\n",
    "from scipy import stats\n",
    "import matplotlib\n",
    "import matplotlib.pyplot as plt\n",
    "import seaborn\n",
    "import glob\n",
    "from sklearn.preprocessing import LabelEncoder\n",
    "%matplotlib inline"
   ]
  },
  {
   "cell_type": "code",
   "execution_count": 2,
   "id": "20440150",
   "metadata": {},
   "outputs": [],
   "source": [
    "# load in the data\n",
    "data_60s = pd.read_csv('spotify-data/dataset-of-60s.csv')\n",
    "data_70s = pd.read_csv('spotify-data/dataset-of-70s.csv')\n",
    "data_80s = pd.read_csv('spotify-data/dataset-of-80s.csv')\n",
    "data_90s = pd.read_csv('spotify-data/dataset-of-90s.csv')\n",
    "data_00s = pd.read_csv('spotify-data/dataset-of-00s.csv')\n",
    "data_10s = pd.read_csv('spotify-data/dataset-of-10s.csv')"
   ]
  },
  {
   "cell_type": "code",
   "execution_count": 3,
   "id": "e9ec1ae3-f560-42e3-88ab-54fd9b52448e",
   "metadata": {},
   "outputs": [],
   "source": [
    "# combined all data into a single dataframe\n",
    "data_all = pd.concat([data_00s, data_10s, data_60s, data_70s, data_80s, data_90s])"
   ]
  },
  {
   "cell_type": "code",
   "execution_count": 4,
   "id": "7afd5e31-49bc-468f-9b10-c5002ca65b8e",
   "metadata": {},
   "outputs": [
    {
     "data": {
      "text/html": [
       "<div>\n",
       "<style scoped>\n",
       "    .dataframe tbody tr th:only-of-type {\n",
       "        vertical-align: middle;\n",
       "    }\n",
       "\n",
       "    .dataframe tbody tr th {\n",
       "        vertical-align: top;\n",
       "    }\n",
       "\n",
       "    .dataframe thead th {\n",
       "        text-align: right;\n",
       "    }\n",
       "</style>\n",
       "<table border=\"1\" class=\"dataframe\">\n",
       "  <thead>\n",
       "    <tr style=\"text-align: right;\">\n",
       "      <th></th>\n",
       "      <th>track</th>\n",
       "      <th>artist</th>\n",
       "      <th>uri</th>\n",
       "      <th>danceability</th>\n",
       "      <th>energy</th>\n",
       "      <th>key</th>\n",
       "      <th>loudness</th>\n",
       "      <th>mode</th>\n",
       "      <th>speechiness</th>\n",
       "      <th>acousticness</th>\n",
       "      <th>instrumentalness</th>\n",
       "      <th>liveness</th>\n",
       "      <th>valence</th>\n",
       "      <th>tempo</th>\n",
       "      <th>duration_ms</th>\n",
       "      <th>time_signature</th>\n",
       "      <th>chorus_hit</th>\n",
       "      <th>sections</th>\n",
       "      <th>target</th>\n",
       "    </tr>\n",
       "  </thead>\n",
       "  <tbody>\n",
       "    <tr>\n",
       "      <th>0</th>\n",
       "      <td>Lucky Man</td>\n",
       "      <td>Montgomery Gentry</td>\n",
       "      <td>spotify:track:4GiXBCUF7H6YfNQsnBRIzl</td>\n",
       "      <td>0.578</td>\n",
       "      <td>0.471</td>\n",
       "      <td>4</td>\n",
       "      <td>-7.270</td>\n",
       "      <td>1</td>\n",
       "      <td>0.0289</td>\n",
       "      <td>0.368000</td>\n",
       "      <td>0.00000</td>\n",
       "      <td>0.159</td>\n",
       "      <td>0.532</td>\n",
       "      <td>133.061</td>\n",
       "      <td>196707</td>\n",
       "      <td>4</td>\n",
       "      <td>30.88059</td>\n",
       "      <td>13</td>\n",
       "      <td>1</td>\n",
       "    </tr>\n",
       "    <tr>\n",
       "      <th>1</th>\n",
       "      <td>On The Hotline</td>\n",
       "      <td>Pretty Ricky</td>\n",
       "      <td>spotify:track:1zyqZONW985Cs4osz9wlsu</td>\n",
       "      <td>0.704</td>\n",
       "      <td>0.854</td>\n",
       "      <td>10</td>\n",
       "      <td>-5.477</td>\n",
       "      <td>0</td>\n",
       "      <td>0.1830</td>\n",
       "      <td>0.018500</td>\n",
       "      <td>0.00000</td>\n",
       "      <td>0.148</td>\n",
       "      <td>0.688</td>\n",
       "      <td>92.988</td>\n",
       "      <td>242587</td>\n",
       "      <td>4</td>\n",
       "      <td>41.51106</td>\n",
       "      <td>10</td>\n",
       "      <td>1</td>\n",
       "    </tr>\n",
       "    <tr>\n",
       "      <th>2</th>\n",
       "      <td>Clouds Of Dementia</td>\n",
       "      <td>Candlemass</td>\n",
       "      <td>spotify:track:6cHZf7RbxXCKwEkgAZT4mY</td>\n",
       "      <td>0.162</td>\n",
       "      <td>0.836</td>\n",
       "      <td>9</td>\n",
       "      <td>-3.009</td>\n",
       "      <td>1</td>\n",
       "      <td>0.0473</td>\n",
       "      <td>0.000111</td>\n",
       "      <td>0.00457</td>\n",
       "      <td>0.174</td>\n",
       "      <td>0.300</td>\n",
       "      <td>86.964</td>\n",
       "      <td>338893</td>\n",
       "      <td>4</td>\n",
       "      <td>65.32887</td>\n",
       "      <td>13</td>\n",
       "      <td>0</td>\n",
       "    </tr>\n",
       "    <tr>\n",
       "      <th>3</th>\n",
       "      <td>Heavy Metal, Raise Hell!</td>\n",
       "      <td>Zwartketterij</td>\n",
       "      <td>spotify:track:2IjBPp2vMeX7LggzRN3iSX</td>\n",
       "      <td>0.188</td>\n",
       "      <td>0.994</td>\n",
       "      <td>4</td>\n",
       "      <td>-3.745</td>\n",
       "      <td>1</td>\n",
       "      <td>0.1660</td>\n",
       "      <td>0.000007</td>\n",
       "      <td>0.07840</td>\n",
       "      <td>0.192</td>\n",
       "      <td>0.333</td>\n",
       "      <td>148.440</td>\n",
       "      <td>255667</td>\n",
       "      <td>4</td>\n",
       "      <td>58.59528</td>\n",
       "      <td>9</td>\n",
       "      <td>0</td>\n",
       "    </tr>\n",
       "    <tr>\n",
       "      <th>4</th>\n",
       "      <td>I Got A Feelin'</td>\n",
       "      <td>Billy Currington</td>\n",
       "      <td>spotify:track:1tF370eYXUcWwkIvaq3IGz</td>\n",
       "      <td>0.630</td>\n",
       "      <td>0.764</td>\n",
       "      <td>2</td>\n",
       "      <td>-4.353</td>\n",
       "      <td>1</td>\n",
       "      <td>0.0275</td>\n",
       "      <td>0.363000</td>\n",
       "      <td>0.00000</td>\n",
       "      <td>0.125</td>\n",
       "      <td>0.631</td>\n",
       "      <td>112.098</td>\n",
       "      <td>193760</td>\n",
       "      <td>4</td>\n",
       "      <td>22.62384</td>\n",
       "      <td>10</td>\n",
       "      <td>1</td>\n",
       "    </tr>\n",
       "  </tbody>\n",
       "</table>\n",
       "</div>"
      ],
      "text/plain": [
       "                      track             artist  \\\n",
       "0                 Lucky Man  Montgomery Gentry   \n",
       "1            On The Hotline       Pretty Ricky   \n",
       "2        Clouds Of Dementia         Candlemass   \n",
       "3  Heavy Metal, Raise Hell!      Zwartketterij   \n",
       "4           I Got A Feelin'   Billy Currington   \n",
       "\n",
       "                                    uri  danceability  energy  key  loudness  \\\n",
       "0  spotify:track:4GiXBCUF7H6YfNQsnBRIzl         0.578   0.471    4    -7.270   \n",
       "1  spotify:track:1zyqZONW985Cs4osz9wlsu         0.704   0.854   10    -5.477   \n",
       "2  spotify:track:6cHZf7RbxXCKwEkgAZT4mY         0.162   0.836    9    -3.009   \n",
       "3  spotify:track:2IjBPp2vMeX7LggzRN3iSX         0.188   0.994    4    -3.745   \n",
       "4  spotify:track:1tF370eYXUcWwkIvaq3IGz         0.630   0.764    2    -4.353   \n",
       "\n",
       "   mode  speechiness  acousticness  instrumentalness  liveness  valence  \\\n",
       "0     1       0.0289      0.368000           0.00000     0.159    0.532   \n",
       "1     0       0.1830      0.018500           0.00000     0.148    0.688   \n",
       "2     1       0.0473      0.000111           0.00457     0.174    0.300   \n",
       "3     1       0.1660      0.000007           0.07840     0.192    0.333   \n",
       "4     1       0.0275      0.363000           0.00000     0.125    0.631   \n",
       "\n",
       "     tempo  duration_ms  time_signature  chorus_hit  sections  target  \n",
       "0  133.061       196707               4    30.88059        13       1  \n",
       "1   92.988       242587               4    41.51106        10       1  \n",
       "2   86.964       338893               4    65.32887        13       0  \n",
       "3  148.440       255667               4    58.59528         9       0  \n",
       "4  112.098       193760               4    22.62384        10       1  "
      ]
     },
     "execution_count": 4,
     "metadata": {},
     "output_type": "execute_result"
    }
   ],
   "source": [
    "# print the first 5 samples\n",
    "data_all.head()"
   ]
  },
  {
   "cell_type": "code",
   "execution_count": 5,
   "id": "5b879133-6560-4066-9a9b-7fc67c2198ae",
   "metadata": {},
   "outputs": [
    {
     "name": "stdout",
     "output_type": "stream",
     "text": [
      "<class 'pandas.core.frame.DataFrame'>\n",
      "Int64Index: 41106 entries, 0 to 5519\n",
      "Data columns (total 19 columns):\n",
      " #   Column            Non-Null Count  Dtype  \n",
      "---  ------            --------------  -----  \n",
      " 0   track             41106 non-null  object \n",
      " 1   artist            41106 non-null  object \n",
      " 2   uri               41106 non-null  object \n",
      " 3   danceability      41106 non-null  float64\n",
      " 4   energy            41106 non-null  float64\n",
      " 5   key               41106 non-null  int64  \n",
      " 6   loudness          41106 non-null  float64\n",
      " 7   mode              41106 non-null  int64  \n",
      " 8   speechiness       41106 non-null  float64\n",
      " 9   acousticness      41106 non-null  float64\n",
      " 10  instrumentalness  41106 non-null  float64\n",
      " 11  liveness          41106 non-null  float64\n",
      " 12  valence           41106 non-null  float64\n",
      " 13  tempo             41106 non-null  float64\n",
      " 14  duration_ms       41106 non-null  int64  \n",
      " 15  time_signature    41106 non-null  int64  \n",
      " 16  chorus_hit        41106 non-null  float64\n",
      " 17  sections          41106 non-null  int64  \n",
      " 18  target            41106 non-null  int64  \n",
      "dtypes: float64(10), int64(6), object(3)\n",
      "memory usage: 6.3+ MB\n"
     ]
    }
   ],
   "source": [
    "# print information of the dataframe\n",
    "data_all.info()"
   ]
  },
  {
   "cell_type": "code",
   "execution_count": 6,
   "id": "65b04421",
   "metadata": {},
   "outputs": [
    {
     "data": {
      "text/plain": [
       "1    20553\n",
       "0    20553\n",
       "Name: target, dtype: int64"
      ]
     },
     "execution_count": 6,
     "metadata": {},
     "output_type": "execute_result"
    }
   ],
   "source": [
    "# print count of target where 1 is a hit and 0 is a flop\n",
    "data_all['target'].value_counts()"
   ]
  },
  {
   "cell_type": "code",
   "execution_count": 7,
   "id": "da313f2f-ae53-489a-bab6-8f4ebe158ec2",
   "metadata": {},
   "outputs": [
    {
     "data": {
      "text/plain": [
       "track               0\n",
       "artist              0\n",
       "uri                 0\n",
       "danceability        0\n",
       "energy              0\n",
       "key                 0\n",
       "loudness            0\n",
       "mode                0\n",
       "speechiness         0\n",
       "acousticness        0\n",
       "instrumentalness    0\n",
       "liveness            0\n",
       "valence             0\n",
       "tempo               0\n",
       "duration_ms         0\n",
       "time_signature      0\n",
       "chorus_hit          0\n",
       "sections            0\n",
       "target              0\n",
       "dtype: int64"
      ]
     },
     "execution_count": 7,
     "metadata": {},
     "output_type": "execute_result"
    }
   ],
   "source": [
    "# print count of features columns with null values\n",
    "data_all.isnull().sum()"
   ]
  },
  {
   "cell_type": "code",
   "execution_count": 8,
   "id": "c374a8b1",
   "metadata": {},
   "outputs": [],
   "source": [
    "# def run_spearmanr(a):\n",
    "#    r = stats.spearmanr(a=data_all[a], b=data_all['target'])\n",
    "#    print(30*\"-\")\n",
    "#    print(f\"{a}\")\n",
    "#    print(\"   Correlation: {:f}\".format(r.correlation))\n",
    "#    print('   P-value: {:f}'.format(r.pvalue))"
   ]
  },
  {
   "cell_type": "code",
   "execution_count": 9,
   "id": "7827c54c",
   "metadata": {},
   "outputs": [],
   "source": [
    "# print(f'Spearmanr results for correlation between columns and song success')\n",
    "\n",
    "# removed_cols = data_all.drop(columns=['target', 'uri'])\n",
    "# for col in removed_cols:\n",
    "#    run_spearmanr(col)"
   ]
  },
  {
   "cell_type": "markdown",
   "id": "85db5189-ae5c-4637-8e9b-6d2c66cd8324",
   "metadata": {},
   "source": [
    "# Data analysis"
   ]
  },
  {
   "cell_type": "code",
   "execution_count": 10,
   "id": "79ae3e12-ea68-4cb7-b947-fc268ca54ca8",
   "metadata": {},
   "outputs": [],
   "source": [
    "data_60s['decade'] = '60s'\n",
    "data_70s['decade'] = '70s'\n",
    "data_80s['decade'] = '80s'\n",
    "data_90s['decade'] = '90s'\n",
    "data_00s['decade'] = '00s'\n",
    "data_10s['decade'] = '10s'\n",
    "data_all_analysis = pd.concat([data_60s, data_70s, data_80s, data_90s, data_00s, data_10s])"
   ]
  },
  {
   "cell_type": "code",
   "execution_count": 11,
   "id": "f3f74ebf-39c1-42f1-af99-270311cc1f00",
   "metadata": {},
   "outputs": [
    {
     "data": {
      "image/png": "[encoded data removed]",
      "text/plain": [
       "<Figure size 600x600 with 1 Axes>"
      ]
     },
     "metadata": {},
     "output_type": "display_data"
    }
   ],
   "source": [
    "plt.figure(figsize=(6,6))\n",
    "seaborn.histplot(data=data_all_analysis, x='decade', hue=\"target\", element='bars', multiple='stack', stat='count')\n",
    "plt.title('Popularity of songs per decade', fontsize=15)\n",
    "plt.ylabel('number of songs')\n",
    "plt.legend(title='Popularity', labels=['hit', 'flop'])\n",
    "plt.show()"
   ]
  },
  {
   "cell_type": "code",
   "execution_count": 12,
   "id": "5aac8190-b120-4a7e-9e29-ba5da1534e6c",
   "metadata": {},
   "outputs": [],
   "source": [
    "# plt.figure(figsize=(6,6))\n",
    "# seaborn.displot(data=data_all_analysis, x='instrumentalness', hue='target', kind=\"kde\")\n",
    "# plt.title('Stroke vs no stroke by BMI', fontsize=15)\n",
    "# plt.ylabel('number of songs')\n",
    "# plt.legend(title='Popularity', labels=['hit', 'flop'])\n",
    "# plt.show()"
   ]
  },
  {
   "cell_type": "markdown",
   "id": "f12f37db-d6ad-4fb2-a6df-b3a1e5a765c9",
   "metadata": {},
   "source": [
    "# Scaling and splitting data"
   ]
  },
  {
   "cell_type": "code",
   "execution_count": 13,
   "id": "f30d8409-8ccd-415c-b2fa-be8a4537396f",
   "metadata": {},
   "outputs": [],
   "source": [
    "from sklearn.preprocessing import scale \n",
    "y = data_all['target']\n",
    "X_unscaled = data_all.drop(['track', 'artist', 'uri', 'target'], axis=1)\n",
    "X = pd.DataFrame(scale(X_unscaled), columns=X_unscaled.columns)"
   ]
  },
  {
   "cell_type": "code",
   "execution_count": 14,
   "id": "65279667-1784-44df-9a4f-2ea1fcd63e84",
   "metadata": {},
   "outputs": [
    {
     "name": "stdout",
     "output_type": "stream",
     "text": [
      "<class 'pandas.core.frame.DataFrame'>\n",
      "RangeIndex: 41106 entries, 0 to 41105\n",
      "Data columns (total 15 columns):\n",
      " #   Column            Non-Null Count  Dtype  \n",
      "---  ------            --------------  -----  \n",
      " 0   danceability      41106 non-null  float64\n",
      " 1   energy            41106 non-null  float64\n",
      " 2   key               41106 non-null  float64\n",
      " 3   loudness          41106 non-null  float64\n",
      " 4   mode              41106 non-null  float64\n",
      " 5   speechiness       41106 non-null  float64\n",
      " 6   acousticness      41106 non-null  float64\n",
      " 7   instrumentalness  41106 non-null  float64\n",
      " 8   liveness          41106 non-null  float64\n",
      " 9   valence           41106 non-null  float64\n",
      " 10  tempo             41106 non-null  float64\n",
      " 11  duration_ms       41106 non-null  float64\n",
      " 12  time_signature    41106 non-null  float64\n",
      " 13  chorus_hit        41106 non-null  float64\n",
      " 14  sections          41106 non-null  float64\n",
      "dtypes: float64(15)\n",
      "memory usage: 4.7 MB\n"
     ]
    }
   ],
   "source": [
    "X.info()"
   ]
  },
  {
   "cell_type": "code",
   "execution_count": 15,
   "id": "9f54ec6f-732f-4602-a6af-c799f2af11fd",
   "metadata": {},
   "outputs": [
    {
     "data": {
      "text/plain": [
       "((41106,), (41106, 15))"
      ]
     },
     "execution_count": 15,
     "metadata": {},
     "output_type": "execute_result"
    }
   ],
   "source": [
    "y.shape, X.shape"
   ]
  },
  {
   "cell_type": "code",
   "execution_count": 16,
   "id": "51ab10be-dba7-416e-bc05-64f135846866",
   "metadata": {},
   "outputs": [],
   "source": [
    "from sklearn.model_selection import train_test_split\n",
    "X_train, X_test, y_train, y_test = train_test_split(X, y, test_size=0.10, random_state=2022, stratify=y)"
   ]
  },
  {
   "cell_type": "code",
   "execution_count": 17,
   "id": "1cdc4679-aab2-4e10-a63b-569477ada022",
   "metadata": {},
   "outputs": [
    {
     "data": {
      "text/plain": [
       "0    18498\n",
       "1    18497\n",
       "Name: target, dtype: int64"
      ]
     },
     "execution_count": 17,
     "metadata": {},
     "output_type": "execute_result"
    }
   ],
   "source": [
    "y_train.value_counts()"
   ]
  },
  {
   "cell_type": "code",
   "execution_count": 18,
   "id": "035a98e9-67bb-42e9-aad4-e86142fdf3a5",
   "metadata": {},
   "outputs": [
    {
     "data": {
      "text/plain": [
       "1    2056\n",
       "0    2055\n",
       "Name: target, dtype: int64"
      ]
     },
     "execution_count": 18,
     "metadata": {},
     "output_type": "execute_result"
    }
   ],
   "source": [
    "y_test.value_counts()"
   ]
  },
  {
   "cell_type": "markdown",
   "id": "fecdd6e5-59c4-4962-b587-20a3ee804cae",
   "metadata": {},
   "source": [
    "# Preparing model evaluation functions"
   ]
  },
  {
   "cell_type": "code",
   "execution_count": 19,
   "id": "f8ec4c43-4ebc-47e1-aa47-99fbdef2b2c5",
   "metadata": {},
   "outputs": [],
   "source": [
    "from sklearn.metrics import confusion_matrix\n",
    "def plot_conf_mat(y_test, y_pred):\n",
    "    conf_mat = confusion_matrix(y_test, y_pred)\n",
    "\n",
    "    group_names = ['True Negatives', 'False Positives', 'False Negatives', 'True Positives']\n",
    "    group_counts = ['{0:0.0f}'.format(value) for value in conf_mat.flatten()]\n",
    "\n",
    "    labels = [f'{v1}\\n{v2}' for v1, v2 in zip(group_names, group_counts)]\n",
    "    labels = np.asarray(labels).reshape(2,2)\n",
    "\n",
    "    plt.figure(figsize=(8,8))\n",
    "    seaborn.heatmap(conf_mat, annot=labels, fmt='', cmap='Blues')\n",
    "    plt.show()"
   ]
  },
  {
   "cell_type": "code",
   "execution_count": 20,
   "id": "24feecda-47ed-4644-97db-acc3d32a33d1",
   "metadata": {},
   "outputs": [],
   "source": [
    "from sklearn.metrics import classification_report\n",
    "def report_classification_performance(y_test, y_pred):\n",
    "    print(classification_report(y_test, y_pred))"
   ]
  },
  {
   "cell_type": "code",
   "execution_count": 21,
   "id": "7b6b3c9e-99f8-488a-8630-298ded3a0a12",
   "metadata": {},
   "outputs": [],
   "source": [
    "from sklearn.metrics import accuracy_score\n",
    "def report_accuracy_performance(y_test, y_pred):\n",
    "    acc = accuracy_score(y_test, y_pred)\n",
    "    print(f'Accuracy score: {acc}')"
   ]
  },
  {
   "cell_type": "code",
   "execution_count": 22,
   "id": "952a1383-ceb3-4873-9436-c6504ee525f3",
   "metadata": {},
   "outputs": [],
   "source": [
    "from sklearn.metrics import roc_auc_score\n",
    "def report_auc_performance(y_test, y_pred):\n",
    "    roc_auc = roc_auc_score(y_test, y_pred)\n",
    "    print(f'AUC score: {roc_auc}')"
   ]
  },
  {
   "cell_type": "code",
   "execution_count": 23,
   "id": "c354cf5d-b78c-4f21-8fd0-742436badd0e",
   "metadata": {},
   "outputs": [],
   "source": [
    "def feature_importance(model):\n",
    "    return pd.DataFrame({'Feature':X.columns, 'Importance':model.feature_importances_}).sort_values('Importance', ascending=False)"
   ]
  },
  {
   "cell_type": "markdown",
   "id": "ba860cfa-e4e5-44b9-a72b-24535d174c59",
   "metadata": {},
   "source": [
    "# Decision Tree Classification"
   ]
  },
  {
   "cell_type": "code",
   "execution_count": 24,
   "id": "8c3ab73d-5a34-4084-93de-c2ca51aa16bd",
   "metadata": {},
   "outputs": [
    {
     "name": "stdout",
     "output_type": "stream",
     "text": [
      "              precision    recall  f1-score   support\n",
      "\n",
      "           0       0.70      0.70      0.70      2055\n",
      "           1       0.70      0.70      0.70      2056\n",
      "\n",
      "    accuracy                           0.70      4111\n",
      "   macro avg       0.70      0.70      0.70      4111\n",
      "weighted avg       0.70      0.70      0.70      4111\n",
      "\n",
      "Accuracy score: 0.7027487229384578\n",
      "AUC score: 0.7027489420318669\n"
     ]
    },
    {
     "data": {
      "image/png": "[encoded data removed]",
      "text/plain": [
       "<Figure size 800x800 with 2 Axes>"
      ]
     },
     "metadata": {},
     "output_type": "display_data"
    },
    {
     "data": {
      "text/html": [
       "<div>\n",
       "<style scoped>\n",
       "    .dataframe tbody tr th:only-of-type {\n",
       "        vertical-align: middle;\n",
       "    }\n",
       "\n",
       "    .dataframe tbody tr th {\n",
       "        vertical-align: top;\n",
       "    }\n",
       "\n",
       "    .dataframe thead th {\n",
       "        text-align: right;\n",
       "    }\n",
       "</style>\n",
       "<table border=\"1\" class=\"dataframe\">\n",
       "  <thead>\n",
       "    <tr style=\"text-align: right;\">\n",
       "      <th></th>\n",
       "      <th>Feature</th>\n",
       "      <th>Importance</th>\n",
       "    </tr>\n",
       "  </thead>\n",
       "  <tbody>\n",
       "    <tr>\n",
       "      <th>7</th>\n",
       "      <td>instrumentalness</td>\n",
       "      <td>0.231373</td>\n",
       "    </tr>\n",
       "    <tr>\n",
       "      <th>6</th>\n",
       "      <td>acousticness</td>\n",
       "      <td>0.109179</td>\n",
       "    </tr>\n",
       "    <tr>\n",
       "      <th>0</th>\n",
       "      <td>danceability</td>\n",
       "      <td>0.095840</td>\n",
       "    </tr>\n",
       "    <tr>\n",
       "      <th>5</th>\n",
       "      <td>speechiness</td>\n",
       "      <td>0.079821</td>\n",
       "    </tr>\n",
       "    <tr>\n",
       "      <th>1</th>\n",
       "      <td>energy</td>\n",
       "      <td>0.073293</td>\n",
       "    </tr>\n",
       "    <tr>\n",
       "      <th>11</th>\n",
       "      <td>duration_ms</td>\n",
       "      <td>0.073280</td>\n",
       "    </tr>\n",
       "    <tr>\n",
       "      <th>9</th>\n",
       "      <td>valence</td>\n",
       "      <td>0.059398</td>\n",
       "    </tr>\n",
       "    <tr>\n",
       "      <th>3</th>\n",
       "      <td>loudness</td>\n",
       "      <td>0.058279</td>\n",
       "    </tr>\n",
       "    <tr>\n",
       "      <th>10</th>\n",
       "      <td>tempo</td>\n",
       "      <td>0.057160</td>\n",
       "    </tr>\n",
       "    <tr>\n",
       "      <th>13</th>\n",
       "      <td>chorus_hit</td>\n",
       "      <td>0.048546</td>\n",
       "    </tr>\n",
       "    <tr>\n",
       "      <th>8</th>\n",
       "      <td>liveness</td>\n",
       "      <td>0.045697</td>\n",
       "    </tr>\n",
       "    <tr>\n",
       "      <th>14</th>\n",
       "      <td>sections</td>\n",
       "      <td>0.027551</td>\n",
       "    </tr>\n",
       "    <tr>\n",
       "      <th>2</th>\n",
       "      <td>key</td>\n",
       "      <td>0.024744</td>\n",
       "    </tr>\n",
       "    <tr>\n",
       "      <th>4</th>\n",
       "      <td>mode</td>\n",
       "      <td>0.009807</td>\n",
       "    </tr>\n",
       "    <tr>\n",
       "      <th>12</th>\n",
       "      <td>time_signature</td>\n",
       "      <td>0.006030</td>\n",
       "    </tr>\n",
       "  </tbody>\n",
       "</table>\n",
       "</div>"
      ],
      "text/plain": [
       "             Feature  Importance\n",
       "7   instrumentalness    0.231373\n",
       "6       acousticness    0.109179\n",
       "0       danceability    0.095840\n",
       "5        speechiness    0.079821\n",
       "1             energy    0.073293\n",
       "11       duration_ms    0.073280\n",
       "9            valence    0.059398\n",
       "3           loudness    0.058279\n",
       "10             tempo    0.057160\n",
       "13        chorus_hit    0.048546\n",
       "8           liveness    0.045697\n",
       "14          sections    0.027551\n",
       "2                key    0.024744\n",
       "4               mode    0.009807\n",
       "12    time_signature    0.006030"
      ]
     },
     "execution_count": 24,
     "metadata": {},
     "output_type": "execute_result"
    }
   ],
   "source": [
    "from sklearn.tree import DecisionTreeClassifier\n",
    "\n",
    "model = DecisionTreeClassifier(random_state=2022)\n",
    "model.fit(X_train, y_train)\n",
    "y_pred = model.predict(X_test)\n",
    "report_classification_performance(y_test, y_pred)\n",
    "report_accuracy_performance(y_test, y_pred)\n",
    "report_auc_performance(y_test, y_pred)\n",
    "plot_conf_mat(y_test, y_pred)\n",
    "feature_importance(model)"
   ]
  },
  {
   "cell_type": "markdown",
   "id": "31b7e442-0b6c-4a10-9c29-000ffa3d1dbe",
   "metadata": {},
   "source": [
    "# Random Forest Classification"
   ]
  },
  {
   "cell_type": "code",
   "execution_count": 25,
   "id": "3555be25-f3aa-4a8a-8a0c-3540ff4be887",
   "metadata": {},
   "outputs": [
    {
     "name": "stdout",
     "output_type": "stream",
     "text": [
      "              precision    recall  f1-score   support\n",
      "\n",
      "           0       0.83      0.76      0.79      2055\n",
      "           1       0.78      0.84      0.81      2056\n",
      "\n",
      "    accuracy                           0.80      4111\n",
      "   macro avg       0.80      0.80      0.80      4111\n",
      "weighted avg       0.80      0.80      0.80      4111\n",
      "\n",
      "Accuracy score: 0.7985891510581367\n",
      "AUC score: 0.7985791985003835\n"
     ]
    },
    {
     "data": {
      "image/png": "[encoded data removed]",
      "text/plain": [
       "<Figure size 800x800 with 2 Axes>"
      ]
     },
     "metadata": {},
     "output_type": "display_data"
    },
    {
     "data": {
      "text/html": [
       "<div>\n",
       "<style scoped>\n",
       "    .dataframe tbody tr th:only-of-type {\n",
       "        vertical-align: middle;\n",
       "    }\n",
       "\n",
       "    .dataframe tbody tr th {\n",
       "        vertical-align: top;\n",
       "    }\n",
       "\n",
       "    .dataframe thead th {\n",
       "        text-align: right;\n",
       "    }\n",
       "</style>\n",
       "<table border=\"1\" class=\"dataframe\">\n",
       "  <thead>\n",
       "    <tr style=\"text-align: right;\">\n",
       "      <th></th>\n",
       "      <th>Feature</th>\n",
       "      <th>Importance</th>\n",
       "    </tr>\n",
       "  </thead>\n",
       "  <tbody>\n",
       "    <tr>\n",
       "      <th>7</th>\n",
       "      <td>instrumentalness</td>\n",
       "      <td>0.168603</td>\n",
       "    </tr>\n",
       "    <tr>\n",
       "      <th>6</th>\n",
       "      <td>acousticness</td>\n",
       "      <td>0.109367</td>\n",
       "    </tr>\n",
       "    <tr>\n",
       "      <th>0</th>\n",
       "      <td>danceability</td>\n",
       "      <td>0.102049</td>\n",
       "    </tr>\n",
       "    <tr>\n",
       "      <th>1</th>\n",
       "      <td>energy</td>\n",
       "      <td>0.085135</td>\n",
       "    </tr>\n",
       "    <tr>\n",
       "      <th>11</th>\n",
       "      <td>duration_ms</td>\n",
       "      <td>0.077564</td>\n",
       "    </tr>\n",
       "    <tr>\n",
       "      <th>3</th>\n",
       "      <td>loudness</td>\n",
       "      <td>0.074851</td>\n",
       "    </tr>\n",
       "    <tr>\n",
       "      <th>5</th>\n",
       "      <td>speechiness</td>\n",
       "      <td>0.073845</td>\n",
       "    </tr>\n",
       "    <tr>\n",
       "      <th>9</th>\n",
       "      <td>valence</td>\n",
       "      <td>0.068643</td>\n",
       "    </tr>\n",
       "    <tr>\n",
       "      <th>10</th>\n",
       "      <td>tempo</td>\n",
       "      <td>0.054445</td>\n",
       "    </tr>\n",
       "    <tr>\n",
       "      <th>8</th>\n",
       "      <td>liveness</td>\n",
       "      <td>0.050892</td>\n",
       "    </tr>\n",
       "    <tr>\n",
       "      <th>13</th>\n",
       "      <td>chorus_hit</td>\n",
       "      <td>0.050495</td>\n",
       "    </tr>\n",
       "    <tr>\n",
       "      <th>14</th>\n",
       "      <td>sections</td>\n",
       "      <td>0.037194</td>\n",
       "    </tr>\n",
       "    <tr>\n",
       "      <th>2</th>\n",
       "      <td>key</td>\n",
       "      <td>0.029324</td>\n",
       "    </tr>\n",
       "    <tr>\n",
       "      <th>4</th>\n",
       "      <td>mode</td>\n",
       "      <td>0.010281</td>\n",
       "    </tr>\n",
       "    <tr>\n",
       "      <th>12</th>\n",
       "      <td>time_signature</td>\n",
       "      <td>0.007313</td>\n",
       "    </tr>\n",
       "  </tbody>\n",
       "</table>\n",
       "</div>"
      ],
      "text/plain": [
       "             Feature  Importance\n",
       "7   instrumentalness    0.168603\n",
       "6       acousticness    0.109367\n",
       "0       danceability    0.102049\n",
       "1             energy    0.085135\n",
       "11       duration_ms    0.077564\n",
       "3           loudness    0.074851\n",
       "5        speechiness    0.073845\n",
       "9            valence    0.068643\n",
       "10             tempo    0.054445\n",
       "8           liveness    0.050892\n",
       "13        chorus_hit    0.050495\n",
       "14          sections    0.037194\n",
       "2                key    0.029324\n",
       "4               mode    0.010281\n",
       "12    time_signature    0.007313"
      ]
     },
     "execution_count": 25,
     "metadata": {},
     "output_type": "execute_result"
    }
   ],
   "source": [
    "from sklearn.ensemble import RandomForestClassifier\n",
    "del model\n",
    "model = RandomForestClassifier(n_estimators=100)\n",
    "model.fit(X_train, y_train)\n",
    "y_pred = model.predict(X_test)\n",
    "report_classification_performance(y_test, y_pred)\n",
    "report_accuracy_performance(y_test, y_pred)\n",
    "report_auc_performance(y_test, y_pred)\n",
    "plot_conf_mat(y_test, y_pred)\n",
    "feature_importance(model)"
   ]
  },
  {
   "cell_type": "markdown",
   "id": "720e6cca-1a4f-4962-8f02-888695f1fc78",
   "metadata": {},
   "source": [
    "# Gradient Boosting Classifier"
   ]
  },
  {
   "cell_type": "code",
   "execution_count": 26,
   "id": "b4a0b96d-44b6-4e45-8b37-4e01e861fcbd",
   "metadata": {},
   "outputs": [
    {
     "name": "stdout",
     "output_type": "stream",
     "text": [
      "              precision    recall  f1-score   support\n",
      "\n",
      "           0       0.82      0.71      0.76      2055\n",
      "           1       0.75      0.85      0.79      2056\n",
      "\n",
      "    accuracy                           0.78      4111\n",
      "   macro avg       0.78      0.78      0.78      4111\n",
      "weighted avg       0.78      0.78      0.78      4111\n",
      "\n",
      "Accuracy score: 0.779615665288251\n",
      "AUC score: 0.7795992028553306\n"
     ]
    },
    {
     "data": {
      "image/png": "[encoded data removed]",
      "text/plain": [
       "<Figure size 800x800 with 2 Axes>"
      ]
     },
     "metadata": {},
     "output_type": "display_data"
    },
    {
     "data": {
      "text/html": [
       "<div>\n",
       "<style scoped>\n",
       "    .dataframe tbody tr th:only-of-type {\n",
       "        vertical-align: middle;\n",
       "    }\n",
       "\n",
       "    .dataframe tbody tr th {\n",
       "        vertical-align: top;\n",
       "    }\n",
       "\n",
       "    .dataframe thead th {\n",
       "        text-align: right;\n",
       "    }\n",
       "</style>\n",
       "<table border=\"1\" class=\"dataframe\">\n",
       "  <thead>\n",
       "    <tr style=\"text-align: right;\">\n",
       "      <th></th>\n",
       "      <th>Feature</th>\n",
       "      <th>Importance</th>\n",
       "    </tr>\n",
       "  </thead>\n",
       "  <tbody>\n",
       "    <tr>\n",
       "      <th>7</th>\n",
       "      <td>instrumentalness</td>\n",
       "      <td>0.477078</td>\n",
       "    </tr>\n",
       "    <tr>\n",
       "      <th>6</th>\n",
       "      <td>acousticness</td>\n",
       "      <td>0.144716</td>\n",
       "    </tr>\n",
       "    <tr>\n",
       "      <th>0</th>\n",
       "      <td>danceability</td>\n",
       "      <td>0.121795</td>\n",
       "    </tr>\n",
       "    <tr>\n",
       "      <th>5</th>\n",
       "      <td>speechiness</td>\n",
       "      <td>0.071480</td>\n",
       "    </tr>\n",
       "    <tr>\n",
       "      <th>11</th>\n",
       "      <td>duration_ms</td>\n",
       "      <td>0.057106</td>\n",
       "    </tr>\n",
       "    <tr>\n",
       "      <th>1</th>\n",
       "      <td>energy</td>\n",
       "      <td>0.037994</td>\n",
       "    </tr>\n",
       "    <tr>\n",
       "      <th>9</th>\n",
       "      <td>valence</td>\n",
       "      <td>0.031905</td>\n",
       "    </tr>\n",
       "    <tr>\n",
       "      <th>3</th>\n",
       "      <td>loudness</td>\n",
       "      <td>0.028059</td>\n",
       "    </tr>\n",
       "    <tr>\n",
       "      <th>4</th>\n",
       "      <td>mode</td>\n",
       "      <td>0.011215</td>\n",
       "    </tr>\n",
       "    <tr>\n",
       "      <th>10</th>\n",
       "      <td>tempo</td>\n",
       "      <td>0.006877</td>\n",
       "    </tr>\n",
       "    <tr>\n",
       "      <th>14</th>\n",
       "      <td>sections</td>\n",
       "      <td>0.005460</td>\n",
       "    </tr>\n",
       "    <tr>\n",
       "      <th>8</th>\n",
       "      <td>liveness</td>\n",
       "      <td>0.002199</td>\n",
       "    </tr>\n",
       "    <tr>\n",
       "      <th>12</th>\n",
       "      <td>time_signature</td>\n",
       "      <td>0.001716</td>\n",
       "    </tr>\n",
       "    <tr>\n",
       "      <th>13</th>\n",
       "      <td>chorus_hit</td>\n",
       "      <td>0.001639</td>\n",
       "    </tr>\n",
       "    <tr>\n",
       "      <th>2</th>\n",
       "      <td>key</td>\n",
       "      <td>0.000761</td>\n",
       "    </tr>\n",
       "  </tbody>\n",
       "</table>\n",
       "</div>"
      ],
      "text/plain": [
       "             Feature  Importance\n",
       "7   instrumentalness    0.477078\n",
       "6       acousticness    0.144716\n",
       "0       danceability    0.121795\n",
       "5        speechiness    0.071480\n",
       "11       duration_ms    0.057106\n",
       "1             energy    0.037994\n",
       "9            valence    0.031905\n",
       "3           loudness    0.028059\n",
       "4               mode    0.011215\n",
       "10             tempo    0.006877\n",
       "14          sections    0.005460\n",
       "8           liveness    0.002199\n",
       "12    time_signature    0.001716\n",
       "13        chorus_hit    0.001639\n",
       "2                key    0.000761"
      ]
     },
     "execution_count": 26,
     "metadata": {},
     "output_type": "execute_result"
    }
   ],
   "source": [
    "from sklearn.ensemble import GradientBoostingClassifier\n",
    "\n",
    "del model\n",
    "model = GradientBoostingClassifier(learning_rate=0.1, n_estimators=100)\n",
    "model.fit(X_train, y_train)\n",
    "y_pred = model.predict(X_test)\n",
    "report_classification_performance(y_test, y_pred)\n",
    "report_accuracy_performance(y_test, y_pred)\n",
    "report_auc_performance(y_test, y_pred)\n",
    "plot_conf_mat(y_test, y_pred)\n",
    "feature_importance(model)"
   ]
  },
  {
   "cell_type": "markdown",
   "id": "b1600c79-ea21-4861-843e-f997401ecf72",
   "metadata": {},
   "source": [
    "# Deep Neural Network"
   ]
  },
  {
   "cell_type": "code",
   "execution_count": 27,
   "id": "70d9298f-fa70-47c8-b54f-8e3d432a98df",
   "metadata": {},
   "outputs": [],
   "source": [
    "# Splitting training data into trainining (70% of data), validation (15% of data) and test (15% of data)\n",
    "X_train, X_val_test, y_train, y_val_test = train_test_split(X, y, test_size=0.2, random_state=2022, stratify=y)\n",
    "X_val, X_test, y_val, y_test = train_test_split(X_val_test, y_val_test, test_size=0.5, random_state=2022, stratify=y_val_test)"
   ]
  },
  {
   "cell_type": "code",
   "execution_count": 28,
   "id": "c8039ff4-d673-494f-8e63-e5cb8a434f07",
   "metadata": {},
   "outputs": [
    {
     "name": "stdout",
     "output_type": "stream",
     "text": [
      "(32884, 15) (4111, 15) (4111, 15)\n",
      "(32884,) (4111,) (4111,)\n"
     ]
    }
   ],
   "source": [
    "print(X_train.shape, X_val.shape, X_test.shape)\n",
    "print(y_train.shape, y_val.shape, y_test.shape)"
   ]
  },
  {
   "cell_type": "markdown",
   "id": "bfe594eb-2573-4775-b188-0dd847b580b2",
   "metadata": {},
   "source": [
    "## Utility functions"
   ]
  },
  {
   "cell_type": "code",
   "execution_count": 34,
   "id": "82a15ea1-e6ec-4873-91c0-c7e89cfab9a3",
   "metadata": {},
   "outputs": [],
   "source": [
    "def plot_history(history):\n",
    "    n_epoch = range(1, len(history.history['loss']) + 1)\n",
    "\n",
    "    plt.figure(figsize=(6,6))\n",
    "\n",
    "    seaborn.lineplot(data=history.history, x=n_epoch, y='accuracy', label='accuracy')\n",
    "    seaborn.lineplot(data=history.history, x=n_epoch, y='val_accuracy', label='val_accuracy')\n",
    "    seaborn.lineplot(data=history.history, x=n_epoch, y='loss', label='loss')\n",
    "\n",
    "    plt.legend()\n",
    "    plt.ylim([0,1])\n",
    "    plt.ylabel(None)\n",
    "    plt.xlabel('epochs')\n",
    "    plt.title('Training history of Deep Neural Network', fontsize=15)\n",
    "    plt.show()"
   ]
  },
  {
   "cell_type": "code",
   "execution_count": 36,
   "id": "9a6fbc36-0b82-4e8a-b481-0ec9d2fbf57b",
   "metadata": {},
   "outputs": [],
   "source": [
    "from tensorflow.keras.models import Sequential\n",
    "from tensorflow.keras.layers import Dense, Dropout\n",
    "from keras.regularizers import l2\n",
    "\n",
    "regularizer = l2(0.001)\n",
    "\n",
    "model = Sequential()\n",
    "model.add(Dense(64, activation='relu', kernel_regularizer=regularizer, input_shape=(15,)))\n",
    "model.add(Dense(64, activation='relu', kernel_regularizer=regularizer))\n",
    "model.add(Dense(64, activation='relu', kernel_regularizer=regularizer))\n",
    "model.add(Dense(64, activation='relu', kernel_regularizer=regularizer))\n",
    "model.add(Dense(1, activation='sigmoid'))\n",
    "model.compile(\n",
    "    optimizer='adam', \n",
    "    loss='binary_crossentropy', \n",
    "        metrics=['accuracy'])\n"
   ]
  },
  {
   "cell_type": "code",
   "execution_count": 37,
   "id": "2367ba5f-775f-4391-94c1-66153e544d45",
   "metadata": {},
   "outputs": [
    {
     "name": "stdout",
     "output_type": "stream",
     "text": [
      "Epoch 1/25\n",
      "110/110 [==============================] - 1s 3ms/step - loss: 0.7007 - accuracy: 0.7249 - val_loss: 0.6153 - val_accuracy: 0.7653\n",
      "Epoch 2/25\n",
      "110/110 [==============================] - 0s 2ms/step - loss: 0.5953 - accuracy: 0.7618 - val_loss: 0.5652 - val_accuracy: 0.7718\n",
      "Epoch 3/25\n",
      "110/110 [==============================] - 0s 2ms/step - loss: 0.5601 - accuracy: 0.7672 - val_loss: 0.5392 - val_accuracy: 0.7765\n",
      "Epoch 4/25\n",
      "110/110 [==============================] - 0s 2ms/step - loss: 0.5408 - accuracy: 0.7705 - val_loss: 0.5261 - val_accuracy: 0.7721\n",
      "Epoch 5/25\n",
      "110/110 [==============================] - 0s 2ms/step - loss: 0.5288 - accuracy: 0.7711 - val_loss: 0.5173 - val_accuracy: 0.7767\n",
      "Epoch 6/25\n",
      "110/110 [==============================] - 0s 2ms/step - loss: 0.5205 - accuracy: 0.7745 - val_loss: 0.5138 - val_accuracy: 0.7830\n",
      "Epoch 7/25\n",
      "110/110 [==============================] - 0s 2ms/step - loss: 0.5127 - accuracy: 0.7748 - val_loss: 0.5029 - val_accuracy: 0.7806\n",
      "Epoch 8/25\n",
      "110/110 [==============================] - 0s 2ms/step - loss: 0.5076 - accuracy: 0.7756 - val_loss: 0.5009 - val_accuracy: 0.7794\n",
      "Epoch 9/25\n",
      "110/110 [==============================] - 0s 2ms/step - loss: 0.5031 - accuracy: 0.7772 - val_loss: 0.5019 - val_accuracy: 0.7769\n",
      "Epoch 10/25\n",
      "110/110 [==============================] - 0s 2ms/step - loss: 0.4985 - accuracy: 0.7789 - val_loss: 0.4929 - val_accuracy: 0.7801\n",
      "Epoch 11/25\n",
      "110/110 [==============================] - 0s 2ms/step - loss: 0.4947 - accuracy: 0.7793 - val_loss: 0.4890 - val_accuracy: 0.7828\n",
      "Epoch 12/25\n",
      "110/110 [==============================] - 0s 2ms/step - loss: 0.4920 - accuracy: 0.7804 - val_loss: 0.5000 - val_accuracy: 0.7748\n",
      "Epoch 13/25\n",
      "110/110 [==============================] - 0s 2ms/step - loss: 0.4905 - accuracy: 0.7790 - val_loss: 0.4867 - val_accuracy: 0.7823\n",
      "Epoch 14/25\n",
      "110/110 [==============================] - 0s 2ms/step - loss: 0.4875 - accuracy: 0.7813 - val_loss: 0.4857 - val_accuracy: 0.7830\n",
      "Epoch 15/25\n",
      "110/110 [==============================] - 0s 2ms/step - loss: 0.4864 - accuracy: 0.7817 - val_loss: 0.4831 - val_accuracy: 0.7835\n",
      "Epoch 16/25\n",
      "110/110 [==============================] - 0s 2ms/step - loss: 0.4832 - accuracy: 0.7842 - val_loss: 0.4826 - val_accuracy: 0.7850\n",
      "Epoch 17/25\n",
      "110/110 [==============================] - 0s 2ms/step - loss: 0.4836 - accuracy: 0.7825 - val_loss: 0.4826 - val_accuracy: 0.7818\n",
      "Epoch 18/25\n",
      "110/110 [==============================] - 0s 2ms/step - loss: 0.4804 - accuracy: 0.7822 - val_loss: 0.4854 - val_accuracy: 0.7803\n",
      "Epoch 19/25\n",
      "110/110 [==============================] - 0s 2ms/step - loss: 0.4798 - accuracy: 0.7833 - val_loss: 0.4808 - val_accuracy: 0.7830\n",
      "Epoch 20/25\n",
      "110/110 [==============================] - 0s 2ms/step - loss: 0.4788 - accuracy: 0.7838 - val_loss: 0.4812 - val_accuracy: 0.7816\n",
      "Epoch 21/25\n",
      "110/110 [==============================] - 0s 2ms/step - loss: 0.4776 - accuracy: 0.7849 - val_loss: 0.4768 - val_accuracy: 0.7850\n",
      "Epoch 22/25\n",
      "110/110 [==============================] - 0s 2ms/step - loss: 0.4770 - accuracy: 0.7840 - val_loss: 0.4751 - val_accuracy: 0.7884\n",
      "Epoch 23/25\n",
      "110/110 [==============================] - 0s 2ms/step - loss: 0.4765 - accuracy: 0.7856 - val_loss: 0.4757 - val_accuracy: 0.7847\n",
      "Epoch 24/25\n",
      "110/110 [==============================] - 0s 2ms/step - loss: 0.4749 - accuracy: 0.7849 - val_loss: 0.4748 - val_accuracy: 0.7864\n",
      "Epoch 25/25\n",
      "110/110 [==============================] - 0s 2ms/step - loss: 0.4735 - accuracy: 0.7858 - val_loss: 0.4753 - val_accuracy: 0.7816\n"
     ]
    }
   ],
   "source": [
    "epochs = 30\n",
    "batch_size = 300\n",
    "history = model.fit(X_train, y_train,\n",
    "             validation_data=(X_val, y_val),\n",
    "             epochs=25,\n",
    "             batch_size=300)"
   ]
  },
  {
   "cell_type": "code",
   "execution_count": 38,
   "id": "ec2168f3-ed6a-481b-911e-e36107d533f2",
   "metadata": {},
   "outputs": [
    {
     "data": {
      "image/png": "[encoded data removed]",
      "text/plain": [
       "<Figure size 600x600 with 1 Axes>"
      ]
     },
     "metadata": {},
     "output_type": "display_data"
    },
    {
     "name": "stdout",
     "output_type": "stream",
     "text": [
      "129/129 [==============================] - 0s 691us/step - loss: 0.4729 - accuracy: 0.7898\n"
     ]
    },
    {
     "data": {
      "text/plain": [
       "[0.4728850722312927, 0.7898321747779846]"
      ]
     },
     "execution_count": 38,
     "metadata": {},
     "output_type": "execute_result"
    }
   ],
   "source": [
    "plot_history(history)\n",
    "model.evaluate(X_test, y_test)"
   ]
  },
  {
   "cell_type": "code",
   "execution_count": null,
   "id": "9b49a1ae-d3e8-4a19-b7fd-91f133f70b04",
   "metadata": {},
   "outputs": [],
   "source": []
  },
  {
   "cell_type": "code",
   "execution_count": null,
   "id": "7d9b0e5b-1756-4c5e-ba17-adbe6f464ce2",
   "metadata": {},
   "outputs": [],
   "source": []
  }
 ],
 "metadata": {
  "kernelspec": {
   "display_name": "Python 3 (ipykernel)",
   "language": "python",
   "name": "python3"
  },
  "language_info": {
   "codemirror_mode": {
    "name": "ipython",
    "version": 3
   },
   "file_extension": ".py",
   "mimetype": "text/x-python",
   "name": "python",
   "nbconvert_exporter": "python",
   "pygments_lexer": "ipython3",
   "version": "3.9.9"
  },
  "vscode": {
   "interpreter": {
    "hash": "79cd22c6d3e9b8fc2a84a75cb3fc173187a7c9ba95df7caf518f788846b97792"
   }
  }
 },
 "nbformat": 4,
 "nbformat_minor": 5
}
