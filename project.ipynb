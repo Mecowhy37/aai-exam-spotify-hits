{
 "cells": [
  {
   "cell_type": "code",
   "execution_count": 1,
   "id": "731ff28d-7d3f-4ff1-a8be-bbc73a99f343",
   "metadata": {},
   "outputs": [],
   "source": [
    "import numpy as np\n",
    "import pandas as pd\n",
    "from scipy import stats\n",
    "import matplotlib\n",
    "import matplotlib.pyplot as plt\n",
    "import seaborn\n",
    "import glob\n",
    "from sklearn.preprocessing import LabelEncoder\n",
    "%matplotlib inline"
   ]
  },
  {
   "cell_type": "code",
   "execution_count": 33,
   "id": "20440150",
   "metadata": {},
   "outputs": [
    {
     "name": "stdout",
     "output_type": "stream",
     "text": [
      "<class 'pandas.core.frame.DataFrame'>\n",
      "Int64Index: 41106 entries, 0 to 5519\n",
      "Data columns (total 19 columns):\n",
      " #   Column            Non-Null Count  Dtype  \n",
      "---  ------            --------------  -----  \n",
      " 0   track             41106 non-null  object \n",
      " 1   artist            41106 non-null  object \n",
      " 2   uri               41106 non-null  object \n",
      " 3   danceability      41106 non-null  float64\n",
      " 4   energy            41106 non-null  float64\n",
      " 5   key               41106 non-null  int64  \n",
      " 6   loudness          41106 non-null  float64\n",
      " 7   mode              41106 non-null  int64  \n",
      " 8   speechiness       41106 non-null  float64\n",
      " 9   acousticness      41106 non-null  float64\n",
      " 10  instrumentalness  41106 non-null  float64\n",
      " 11  liveness          41106 non-null  float64\n",
      " 12  valence           41106 non-null  float64\n",
      " 13  tempo             41106 non-null  float64\n",
      " 14  duration_ms       41106 non-null  int64  \n",
      " 15  time_signature    41106 non-null  int64  \n",
      " 16  chorus_hit        41106 non-null  float64\n",
      " 17  sections          41106 non-null  int64  \n",
      " 18  target            41106 non-null  int64  \n",
      "dtypes: float64(10), int64(6), object(3)\n",
      "memory usage: 6.3+ MB\n"
     ]
    }
   ],
   "source": [
    "data60s = pd.read_csv('spotify-data/dataset-of-60s.csv')\n",
    "data70s = pd.read_csv('spotify-data/dataset-of-70s.csv')\n",
    "data80s = pd.read_csv('spotify-data/dataset-of-80s.csv')\n",
    "data90s = pd.read_csv('spotify-data/dataset-of-90s.csv')\n",
    "data00s = pd.read_csv('spotify-data/dataset-of-00s.csv')\n",
    "data10s = pd.read_csv('spotify-data/dataset-of-10s.csv')\n",
    "\n",
    "csv_files = glob.glob('.\\spotify-data\\*.{}'.format('csv'))\n",
    "\n",
    "all_data = pd.DataFrame()\n",
    "\n",
    "for file in csv_files:\n",
    "    df_temp = pd.read_csv(file)\n",
    "    all_data = pd.concat([all_data, df_temp])\n",
    "\n",
    "# all_data\n",
    "all_data.info()"
   ]
  },
  {
   "cell_type": "code",
   "execution_count": 32,
   "id": "65b04421",
   "metadata": {},
   "outputs": [
    {
     "data": {
      "text/html": [
       "<div>\n",
       "<style scoped>\n",
       "    .dataframe tbody tr th:only-of-type {\n",
       "        vertical-align: middle;\n",
       "    }\n",
       "\n",
       "    .dataframe tbody tr th {\n",
       "        vertical-align: top;\n",
       "    }\n",
       "\n",
       "    .dataframe thead th {\n",
       "        text-align: right;\n",
       "    }\n",
       "</style>\n",
       "<table border=\"1\" class=\"dataframe\">\n",
       "  <thead>\n",
       "    <tr style=\"text-align: right;\">\n",
       "      <th></th>\n",
       "      <th>target</th>\n",
       "    </tr>\n",
       "    <tr>\n",
       "      <th>target</th>\n",
       "      <th></th>\n",
       "    </tr>\n",
       "  </thead>\n",
       "  <tbody>\n",
       "    <tr>\n",
       "      <th>0</th>\n",
       "      <td>20553</td>\n",
       "    </tr>\n",
       "    <tr>\n",
       "      <th>1</th>\n",
       "      <td>20553</td>\n",
       "    </tr>\n",
       "  </tbody>\n",
       "</table>\n",
       "</div>"
      ],
      "text/plain": [
       "        target\n",
       "target        \n",
       "0        20553\n",
       "1        20553"
      ]
     },
     "execution_count": 32,
     "metadata": {},
     "output_type": "execute_result"
    }
   ],
   "source": [
    "#hit or flop dataframe (0 = flop, 1 = hit)\n",
    "hit_count_df = pd.DataFrame(all_data.groupby('target')['target'].count())\n",
    "hit_count_df"
   ]
  },
  {
   "cell_type": "code",
   "execution_count": 53,
   "id": "c374a8b1",
   "metadata": {},
   "outputs": [],
   "source": [
    "def run_spearmanr(a):\n",
    "    r = stats.spearmanr(a=all_data[a], b=all_data['target'])\n",
    "    print(30*\"-\")\n",
    "    print(f\"{a}\")\n",
    "    print(\"   Correlation: {:f}\".format(r.correlation))\n",
    "    print('   P-value: {:f}'.format(r.pvalue))"
   ]
  },
  {
   "cell_type": "code",
   "execution_count": 60,
   "id": "7827c54c",
   "metadata": {},
   "outputs": [
    {
     "name": "stdout",
     "output_type": "stream",
     "text": [
      "Spearmanr results for correlation between columns and song success\n",
      "------------------------------\n",
      "track\n",
      "   Correlation: 0.022619\n",
      "   P-value: 0.000005\n",
      "------------------------------\n",
      "artist\n",
      "   Correlation: 0.005745\n",
      "   P-value: 0.244102\n",
      "------------------------------\n",
      "danceability\n",
      "   Correlation: 0.339076\n",
      "   P-value: 0.000000\n",
      "------------------------------\n",
      "energy\n",
      "   Correlation: 0.148342\n",
      "   P-value: 0.000000\n"
     ]
    },
    {
     "name": "stderr",
     "output_type": "stream",
     "text": [
      "c:\\Users\\kozak\\AppData\\Local\\Programs\\Python\\Python39\\lib\\site-packages\\scipy\\stats\\_stats_py.py:110: RuntimeWarning: The input array could not be properly checked for nan values. nan values will be ignored.\n",
      "  warnings.warn(\"The input array could not be properly \"\n"
     ]
    },
    {
     "name": "stdout",
     "output_type": "stream",
     "text": [
      "------------------------------\n",
      "key\n",
      "   Correlation: 0.009441\n",
      "   P-value: 0.055614\n",
      "------------------------------\n",
      "loudness\n",
      "   Correlation: 0.247604\n",
      "   P-value: 0.000000\n",
      "------------------------------\n",
      "mode\n",
      "   Correlation: 0.079614\n",
      "   P-value: 0.000000\n",
      "------------------------------\n",
      "speechiness\n",
      "   Correlation: -0.130185\n",
      "   P-value: 0.000000\n",
      "------------------------------\n",
      "acousticness\n",
      "   Correlation: -0.168019\n",
      "   P-value: 0.000000\n",
      "------------------------------\n",
      "instrumentalness\n",
      "   Correlation: -0.420482\n",
      "   P-value: 0.000000\n",
      "------------------------------\n",
      "liveness\n",
      "   Correlation: -0.055092\n",
      "   P-value: 0.000000\n",
      "------------------------------\n",
      "valence\n",
      "   Correlation: 0.241435\n",
      "   P-value: 0.000000\n",
      "------------------------------\n",
      "tempo\n",
      "   Correlation: 0.038326\n",
      "   P-value: 0.000000\n",
      "------------------------------\n",
      "duration_ms\n",
      "   Correlation: 0.021502\n",
      "   P-value: 0.000013\n",
      "------------------------------\n",
      "time_signature\n",
      "   Correlation: 0.104340\n",
      "   P-value: 0.000000\n",
      "------------------------------\n",
      "chorus_hit\n",
      "   Correlation: -0.032377\n",
      "   P-value: 0.000000\n",
      "------------------------------\n",
      "sections\n",
      "   Correlation: 0.022470\n",
      "   P-value: 0.000005\n"
     ]
    }
   ],
   "source": [
    "print(f'Spearmanr results for correlation between columns and song success')\n",
    "\n",
    "removed_cols = all_data.drop(columns=['target', 'uri'])\n",
    "for col in removed_cols:\n",
    "    run_spearmanr(col)"
   ]
  }
 ],
 "metadata": {
  "kernelspec": {
   "display_name": "Python 3",
   "language": "python",
   "name": "python3"
  },
  "language_info": {
   "codemirror_mode": {
    "name": "ipython",
    "version": 3
   },
   "file_extension": ".py",
   "mimetype": "text/x-python",
   "name": "python",
   "nbconvert_exporter": "python",
   "pygments_lexer": "ipython3",
   "version": "3.9.9"
  },
  "vscode": {
   "interpreter": {
    "hash": "d697681c1acdfcc29b55502cd418b980912c6fe53e7ead9b374abb5e2d9a0f3b"
   }
  }
 },
 "nbformat": 4,
 "nbformat_minor": 5
}
